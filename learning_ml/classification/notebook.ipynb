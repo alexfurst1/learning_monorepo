{
 "cells": [
  {
   "cell_type": "markdown",
   "id": "c0393eb9",
   "metadata": {},
   "source": [
    "# Learning Classification\n",
    "* notes taken on paper"
   ]
  },
  {
   "cell_type": "code",
   "execution_count": null,
   "id": "c302c160",
   "metadata": {},
   "outputs": [],
   "source": [
    "from sklearn.datasets import fetch_mldata\n",
    "\n"
   ]
  }
 ],
 "metadata": {
  "kernelspec": {
   "display_name": "Python 3",
   "language": "python",
   "name": "python3"
  },
  "language_info": {
   "name": "python",
   "version": "3.13.1"
  }
 },
 "nbformat": 4,
 "nbformat_minor": 5
}
